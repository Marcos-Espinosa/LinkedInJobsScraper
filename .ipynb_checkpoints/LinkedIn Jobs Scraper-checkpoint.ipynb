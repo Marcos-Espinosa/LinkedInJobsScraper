{
 "cells": [
  {
   "cell_type": "markdown",
   "id": "393edb1f",
   "metadata": {},
   "source": [
    "Necessary Imports for LinkedIn Scraping"
   ]
  },
  {
   "cell_type": "code",
   "execution_count": 1,
   "id": "a95d350c",
   "metadata": {},
   "outputs": [],
   "source": [
    "import logging\n",
    "from linkedin_jobs_scraper import LinkedinScraper\n",
    "from linkedin_jobs_scraper.events import Events,EventData,EventMetrics\n",
    "from linkedin_jobs_scraper.query import Query,QueryOptions,QueryFilters\n",
    "from linkedin_jobs_scraper.filters import RelevanceFilters, TimeFilters,TypeFilters,ExperienceLevelFilters, RemoteFilters"
   ]
  },
  {
   "cell_type": "markdown",
   "id": "42971855",
   "metadata": {},
   "source": [
    "Necessary Imports for Extracting Common Words"
   ]
  },
  {
   "cell_type": "code",
   "execution_count": 2,
   "id": "de9951fe",
   "metadata": {},
   "outputs": [],
   "source": [
    "import collections\n",
    "import pandas as pd\n",
    "import matplotlib.pyplot as plt\n",
    "%matplotlib inline"
   ]
  },
  {
   "cell_type": "code",
   "execution_count": 3,
   "id": "e72a1054",
   "metadata": {},
   "outputs": [],
   "source": [
    "logging.basicConfig(level = logging.INFO)"
   ]
  },
  {
   "cell_type": "code",
   "execution_count": 18,
   "id": "d9d0bff4",
   "metadata": {},
   "outputs": [],
   "source": [
    "results = []"
   ]
  },
  {
   "cell_type": "code",
   "execution_count": 29,
   "id": "d944259d",
   "metadata": {},
   "outputs": [],
   "source": [
    "def on_data(data: EventData):\n",
    "    print('[ON_DATA]',data.title,data.company,\n",
    "          data.company_link,data.date,data.link,data.insights, len(data.description))"
   ]
  },
  {
   "cell_type": "code",
   "execution_count": 5,
   "id": "0127e147",
   "metadata": {},
   "outputs": [],
   "source": [
    "def on_error(error):\n",
    "    print('[ON_ERROR]', error)"
   ]
  },
  {
   "cell_type": "code",
   "execution_count": 6,
   "id": "d982ff4b",
   "metadata": {},
   "outputs": [],
   "source": [
    "def on_end():\n",
    "    print('[ON_END]')"
   ]
  },
  {
   "cell_type": "code",
   "execution_count": 7,
   "id": "1204d3d5",
   "metadata": {},
   "outputs": [],
   "source": [
    "chrome_driver_path = '/Users/marcosespinosa/Downloads/chromedriver'"
   ]
  },
  {
   "cell_type": "code",
   "execution_count": 25,
   "id": "a99e8ffd",
   "metadata": {},
   "outputs": [
    {
     "name": "stderr",
     "output_type": "stream",
     "text": [
      "INFO:li:scraper:('Using strategy AnonymousStrategy',)\n",
      "WARNING:li:scraper:(\"AnonymousStrategy is no longer maintained and it won't probably work. It is recommended to use an authenticated session, see documentation at https://github.com/spinlud/py-linkedin-jobs-scraper#anonymous-vs-authenticated-session.\",)\n"
     ]
    }
   ],
   "source": [
    "scraper = LinkedinScraper(\n",
    "    chrome_executable_path=chrome_driver_path,\n",
    "    chrome_options=None,\n",
    "    headless=True,\n",
    "    max_workers=1,\n",
    "    slow_mo=1.3,\n",
    "    page_load_timeout=20)"
   ]
  },
  {
   "cell_type": "code",
   "execution_count": 9,
   "id": "f88d2709",
   "metadata": {},
   "outputs": [],
   "source": [
    "scraper.on(Events.DATA, on_data)\n",
    "scraper.on(Events.ERROR, on_error)\n",
    "scraper.on(Events.END, on_end)"
   ]
  },
  {
   "cell_type": "code",
   "execution_count": 13,
   "id": "8a988b42",
   "metadata": {},
   "outputs": [],
   "source": [
    "queries = [\n",
    "    Query(\n",
    "        query='Python',\n",
    "        options=QueryOptions(\n",
    "            locations=['United States','Tampa,FL'],\n",
    "            apply_link = True,\n",
    "            limit = 27,\n",
    "            filters=QueryFilters(\n",
    "                relevance=RelevanceFilters.RECENT,\n",
    "                time=TimeFilters.MONTH,\n",
    "                type=[TypeFilters.FULL_TIME],\n",
    "                experience=None,\n",
    "            )\n",
    "        )\n",
    "    ),\n",
    "]"
   ]
  },
  {
   "cell_type": "code",
   "execution_count": 26,
   "id": "20304b37",
   "metadata": {},
   "outputs": [
    {
     "name": "stderr",
     "output_type": "stream",
     "text": [
      "INFO:li:scraper:('Starting new query', \"Query(query=Python options=QueryOptions(limit=27 locations=['United States', 'Tampa,FL'] filters=QueryFilters(relevance=RelevanceFilters.RECENT time=TimeFilters.MONTH type=[<TypeFilters.FULL_TIME: 'F'>]) optimize=False apply_link=True))\")\n",
      "INFO:li:scraper:('Chrome debugger url', 'http://localhost:57999')\n",
      "INFO:li:scraper:('[Python][United States]', 'Opening https://www.linkedin.com/jobs/search?keywords=Python&location=United+States&sortBy=DD&f_TPR=r2592000&f_JT=F&start=0')\n",
      "INFO:li:scraper:('[Python][United States]', 'Trying first selectors set')\n",
      "INFO:li:scraper:('[Python][United States]', 'Trying second selectors set')\n",
      "INFO:li:scraper:('[Python][United States]', 'OK')\n",
      "INFO:li:scraper:('[Python][United States]', 'Starting pagination loop')\n",
      "INFO:li:scraper:('[Python][United States]', 'Found 25 jobs')\n",
      "INFO:li:scraper:('[Python][United States][1]', 'Processed')\n",
      "INFO:li:scraper:('[Python][United States][2]', 'Processed')\n",
      "INFO:li:scraper:('[Python][United States][3]', 'Processed')\n",
      "INFO:li:scraper:('[Python][United States][4]', 'Processed')\n",
      "INFO:li:scraper:('[Python][United States][5]', 'Processed')\n",
      "INFO:li:scraper:('[Python][United States][6]', 'Processed')\n",
      "WARNING:li:scraper:('[Python][United States]', '[429] Too many requests', 'You should probably increase scraper \"slow_mo\" value or reduce concurrency')\n",
      "WARNING:li:scraper:('[Python][United States]', '[429] Too many requests', 'You should probably increase scraper \"slow_mo\" value or reduce concurrency')\n",
      "ERROR:li:scraper:('[Python][United States][7]', 'Timeout on loading job details')\n",
      "NoneType: None\n",
      "INFO:li:scraper:('[Python][United States][7]', 'Processed')\n",
      "INFO:li:scraper:('[Python][United States][8]', 'Processed')\n",
      "INFO:li:scraper:('[Python][United States][9]', 'Processed')\n",
      "INFO:li:scraper:('[Python][United States][10]', 'Processed')\n",
      "INFO:li:scraper:('[Python][United States][11]', 'Processed')\n",
      "WARNING:li:scraper:('[Python][United States]', '[429] Too many requests', 'You should probably increase scraper \"slow_mo\" value or reduce concurrency')\n",
      "WARNING:li:scraper:('[Python][United States]', '[429] Too many requests', 'You should probably increase scraper \"slow_mo\" value or reduce concurrency')\n",
      "ERROR:li:scraper:('[Python][United States][12]', 'Timeout on loading job details')\n",
      "NoneType: None\n",
      "INFO:li:scraper:('[Python][United States][12]', 'Processed')\n",
      "INFO:li:scraper:('[Python][United States][13]', 'Processed')\n",
      "INFO:li:scraper:('[Python][United States][14]', 'Processed')\n",
      "INFO:li:scraper:('[Python][United States][15]', 'Processed')\n",
      "INFO:li:scraper:('[Python][United States][16]', 'Processed')\n",
      "WARNING:li:scraper:('[Python][United States]', '[429] Too many requests', 'You should probably increase scraper \"slow_mo\" value or reduce concurrency')\n",
      "ERROR:li:scraper:('[Python][United States][17]', 'Timeout on loading job details')\n",
      "NoneType: None\n",
      "INFO:li:scraper:('[Python][United States][17]', 'Processed')\n",
      "INFO:li:scraper:('[Python][United States][18]', 'Processed')\n",
      "INFO:li:scraper:('[Python][United States][19]', 'Processed')\n",
      "INFO:li:scraper:('[Python][United States][20]', 'Processed')\n",
      "INFO:li:scraper:('[Python][United States][21]', 'Processed')\n",
      "WARNING:li:scraper:('[Python][United States]', '[429] Too many requests', 'You should probably increase scraper \"slow_mo\" value or reduce concurrency')\n",
      "WARNING:li:scraper:('[Python][United States]', '[429] Too many requests', 'You should probably increase scraper \"slow_mo\" value or reduce concurrency')\n",
      "ERROR:li:scraper:('[Python][United States][22]', 'Timeout on loading job details')\n",
      "NoneType: None\n",
      "INFO:li:scraper:('[Python][United States][22]', 'Checking for new jobs to load...')\n",
      "INFO:li:scraper:('[Python][United States][22]', 'Found 50 jobs')\n",
      "WARNING:li:scraper:('[Python][United States]', '[429] Too many requests', 'You should probably increase scraper \"slow_mo\" value or reduce concurrency')\n",
      "INFO:li:scraper:('[Python][United States][22]', 'Processed')\n",
      "INFO:li:scraper:('[Python][United States][23]', 'Processed')\n",
      "INFO:li:scraper:('[Python][United States][24]', 'Processed')\n",
      "INFO:li:scraper:('[Python][United States][25]', 'Processed')\n",
      "INFO:li:scraper:('[Python][United States][26]', 'Processed')\n",
      "WARNING:li:scraper:('[Python][United States]', '[429] Too many requests', 'You should probably increase scraper \"slow_mo\" value or reduce concurrency')\n",
      "WARNING:li:scraper:('[Python][United States]', '[429] Too many requests', 'You should probably increase scraper \"slow_mo\" value or reduce concurrency')\n",
      "ERROR:li:scraper:('[Python][United States][27]', 'Timeout on loading job details')\n",
      "NoneType: None\n",
      "INFO:li:scraper:('[Python][United States][27]', 'Processed')\n",
      "INFO:li:scraper:('Chrome debugger url', 'http://localhost:58034')\n",
      "INFO:li:scraper:('[Python][Tampa,FL]', 'Opening https://www.linkedin.com/jobs/search?keywords=Python&location=Tampa%2CFL&sortBy=DD&f_TPR=r2592000&f_JT=F&start=0')\n",
      "INFO:li:scraper:('[Python][Tampa,FL]', 'Trying first selectors set')\n",
      "INFO:li:scraper:('[Python][Tampa,FL]', 'Trying second selectors set')\n",
      "INFO:li:scraper:('[Python][Tampa,FL]', 'OK')\n",
      "INFO:li:scraper:('[Python][Tampa,FL]', 'Starting pagination loop')\n",
      "INFO:li:scraper:('[Python][Tampa,FL]', 'Found 25 jobs')\n",
      "INFO:li:scraper:('[Python][Tampa,FL][1]', 'Processed')\n",
      "INFO:li:scraper:('[Python][Tampa,FL][2]', 'Processed')\n",
      "INFO:li:scraper:('[Python][Tampa,FL][3]', 'Processed')\n",
      "INFO:li:scraper:('[Python][Tampa,FL][4]', 'Processed')\n",
      "INFO:li:scraper:('[Python][Tampa,FL][5]', 'Processed')\n",
      "INFO:li:scraper:('[Python][Tampa,FL][6]', 'Processed')\n",
      "INFO:li:scraper:('[Python][Tampa,FL][7]', 'Processed')\n",
      "WARNING:li:scraper:('[Python][Tampa,FL]', '[429] Too many requests', 'You should probably increase scraper \"slow_mo\" value or reduce concurrency')\n",
      "WARNING:li:scraper:('[Python][Tampa,FL]', '[429] Too many requests', 'You should probably increase scraper \"slow_mo\" value or reduce concurrency')\n",
      "ERROR:li:scraper:('[Python][Tampa,FL][8]', 'Timeout on loading job details')\n",
      "NoneType: None\n",
      "INFO:li:scraper:('[Python][Tampa,FL][8]', 'Processed')\n",
      "INFO:li:scraper:('[Python][Tampa,FL][9]', 'Processed')\n",
      "INFO:li:scraper:('[Python][Tampa,FL][10]', 'Processed')\n",
      "INFO:li:scraper:('[Python][Tampa,FL][11]', 'Processed')\n",
      "WARNING:li:scraper:('[Python][Tampa,FL]', '[429] Too many requests', 'You should probably increase scraper \"slow_mo\" value or reduce concurrency')\n",
      "ERROR:li:scraper:('[Python][Tampa,FL][12]', 'Timeout on loading job details')\n",
      "NoneType: None\n",
      "WARNING:li:scraper:('[Python][Tampa,FL]', '[429] Too many requests', 'You should probably increase scraper \"slow_mo\" value or reduce concurrency')\n",
      "WARNING:li:scraper:('[Python][Tampa,FL]', '[429] Too many requests', 'You should probably increase scraper \"slow_mo\" value or reduce concurrency')\n",
      "ERROR:li:scraper:('[Python][Tampa,FL][12]', 'Timeout on loading job details')\n",
      "NoneType: None\n",
      "INFO:li:scraper:('[Python][Tampa,FL][12]', 'Processed')\n",
      "INFO:li:scraper:('[Python][Tampa,FL][13]', 'Processed')\n",
      "INFO:li:scraper:('[Python][Tampa,FL][14]', 'Processed')\n",
      "INFO:li:scraper:('[Python][Tampa,FL][15]', 'Processed')\n",
      "INFO:li:scraper:('[Python][Tampa,FL][16]', 'Processed')\n",
      "WARNING:li:scraper:('[Python][Tampa,FL]', '[429] Too many requests', 'You should probably increase scraper \"slow_mo\" value or reduce concurrency')\n",
      "WARNING:li:scraper:('[Python][Tampa,FL]', '[429] Too many requests', 'You should probably increase scraper \"slow_mo\" value or reduce concurrency')\n",
      "ERROR:li:scraper:('[Python][Tampa,FL][17]', 'Timeout on loading job details')\n",
      "NoneType: None\n",
      "INFO:li:scraper:('[Python][Tampa,FL][17]', 'Processed')\n",
      "INFO:li:scraper:('[Python][Tampa,FL][18]', 'Processed')\n",
      "INFO:li:scraper:('[Python][Tampa,FL][19]', 'Processed')\n",
      "INFO:li:scraper:('[Python][Tampa,FL][20]', 'Processed')\n",
      "INFO:li:scraper:('[Python][Tampa,FL][21]', 'Processed')\n",
      "WARNING:li:scraper:('[Python][Tampa,FL]', '[429] Too many requests', 'You should probably increase scraper \"slow_mo\" value or reduce concurrency')\n",
      "WARNING:li:scraper:('[Python][Tampa,FL]', '[429] Too many requests', 'You should probably increase scraper \"slow_mo\" value or reduce concurrency')\n",
      "ERROR:li:scraper:('[Python][Tampa,FL][22]', 'Timeout on loading job details')\n",
      "NoneType: None\n",
      "INFO:li:scraper:('[Python][Tampa,FL][22]', 'Processed')\n",
      "INFO:li:scraper:('[Python][Tampa,FL][23]', 'Processed')\n"
     ]
    },
    {
     "name": "stderr",
     "output_type": "stream",
     "text": [
      "INFO:li:scraper:('[Python][Tampa,FL][24]', 'Processed')\n",
      "INFO:li:scraper:('[Python][Tampa,FL][25]', 'Processed')\n",
      "INFO:li:scraper:('[Python][Tampa,FL][26]', 'Processed')\n",
      "WARNING:li:scraper:('[Python][Tampa,FL]', '[429] Too many requests', 'You should probably increase scraper \"slow_mo\" value or reduce concurrency')\n",
      "ERROR:li:scraper:('[Python][Tampa,FL][27]', 'Timeout on loading job details')\n",
      "NoneType: None\n",
      "INFO:li:scraper:('[Python][Tampa,FL][27]', 'Processed')\n"
     ]
    }
   ],
   "source": [
    "scraper.run(queries)"
   ]
  },
  {
   "cell_type": "code",
   "execution_count": 27,
   "id": "0b78f8c6",
   "metadata": {},
   "outputs": [
    {
     "data": {
      "text/plain": [
       "[]"
      ]
     },
     "execution_count": 27,
     "metadata": {},
     "output_type": "execute_result"
    }
   ],
   "source": [
    "results"
   ]
  },
  {
   "cell_type": "code",
   "execution_count": null,
   "id": "2c659f46",
   "metadata": {},
   "outputs": [],
   "source": []
  }
 ],
 "metadata": {
  "kernelspec": {
   "display_name": "Python 3 (ipykernel)",
   "language": "python",
   "name": "python3"
  },
  "language_info": {
   "codemirror_mode": {
    "name": "ipython",
    "version": 3
   },
   "file_extension": ".py",
   "mimetype": "text/x-python",
   "name": "python",
   "nbconvert_exporter": "python",
   "pygments_lexer": "ipython3",
   "version": "3.9.12"
  }
 },
 "nbformat": 4,
 "nbformat_minor": 5
}
